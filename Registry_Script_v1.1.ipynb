{
 "cells": [
  {
   "cell_type": "code",
   "execution_count": 2,
   "id": "75eb7f5b-4367-4661-a233-c3551b60828b",
   "metadata": {},
   "outputs": [
    {
     "name": "stdout",
     "output_type": "stream",
     "text": [
      "Process_Registry built successfully\n",
      "To-Be_Activities_Registry built successfully\n",
      "To-Be_Stakeholders_Registry built successfully\n",
      "DOTmLPF-P_Registry built successfully\n",
      "Fit-Gap_Registry built successfully\n",
      "Systems_Registry built successfully\n",
      "Findings_Registry built successfully\n",
      "To-As-Is_Stakeholders_Registry built successfully\n",
      "To-Be_Stakeholders_Registry built successfully\n",
      "Combined DataFrames saved to 'CUI_JTMS_BPR_Registry_2024-04-01.xlsx' successfully with formatting.\n"
     ]
    }
   ],
   "source": [
    "import pandas as pd\n",
    "import datetime\n",
    "import os\n",
    "\n",
    "from Registry_Scripts.Registry_Functions import apply_formatting, write_dataframe_to_excel\n",
    "from Registry_Scripts.registry_process_table import process_table_data\n",
    "from Registry_Scripts.registry_tobe_activities import combine_activities\n",
    "from Registry_Scripts.registry_tobe_performers import combine_performers\n",
    "from Registry_Scripts.registry_dotmil import combine_dotmil_changes\n",
    "from Registry_Scripts.registry_fitgap import combine_fitgap\n",
    "from Registry_Scripts.registry_systems import combine_systems\n",
    "from Registry_Scripts.registry_findings import combine_findings\n",
    "from Registry_Scripts.registry_as_is_activities import combine_as_is_activities\n",
    "from Registry_Scripts.registry_as_is_performers import combine_as_is_performers\n",
    "\n",
    "# Define the folder paths\n",
    "folder_path = \"Excel_Reports\"\n",
    "\n",
    "# Get today's date in YYYY-MM-DD format\n",
    "today_date = datetime.datetime.now().strftime('%Y-%m-%d')\n",
    "\n",
    "# Construct the file name with today's date\n",
    "existing_file_path = f\"CUI_JTMS_BPR_Registry_{today_date}.xlsx\"\n",
    "\n",
    "# Process data from different tabs using respective functions\n",
    "process_table_data_df = process_table_data(folder_path)\n",
    "activities_df = combine_activities(folder_path)\n",
    "performers_df = combine_performers(folder_path)\n",
    "dotmil_changes_df = combine_dotmil_changes(folder_path)\n",
    "fitgap_df = combine_fitgap(folder_path)\n",
    "systems_df = combine_systems(folder_path)\n",
    "findings_df = combine_findings(folder_path)\n",
    "as_is_activities_df = combine_as_is_activities(folder_path)\n",
    "as_is_performers_df = combine_performers(folder_path)\n",
    "\n",
    "\n",
    "# Write the combined DataFrames to an Excel file using the function from Registry_Functions.py\n",
    "write_dataframe_to_excel(process_table_data_df, existing_file_path, \"Process_Registry\")\n",
    "write_dataframe_to_excel(activities_df, existing_file_path, \"To-Be_Activities_Registry\")\n",
    "write_dataframe_to_excel(performers_df, existing_file_path, \"To-Be_Stakeholders_Registry\")\n",
    "write_dataframe_to_excel(dotmil_changes_df, existing_file_path, \"DOTmLPF-P_Registry\")\n",
    "write_dataframe_to_excel(findings_df, existing_file_path, \"Findings_Registry\")\n",
    "write_dataframe_to_excel(systems_df, existing_file_path, \"Systems_Registry\")\n",
    "write_dataframe_to_excel(fitgap_df, existing_file_path, \"Fit-Gap_Registry\")\n",
    "write_dataframe_to_excel(as_is_activities_df, existing_file_path, \"As-Is_Activities_Registry\")\n",
    "write_dataframe_to_excel(as_is_performers_df, existing_file_path, \"As-Is_Stakeholders_Registry\")\n",
    "\n",
    "\n",
    "print(f\"Combined DataFrames saved to '{existing_file_path}' successfully with formatting.\")\n"
   ]
  },
  {
   "cell_type": "code",
   "execution_count": null,
   "id": "bb76359b-af0c-4741-8291-5aa2121f4319",
   "metadata": {},
   "outputs": [],
   "source": [
    "fitgap_df"
   ]
  },
  {
   "cell_type": "code",
   "execution_count": null,
   "id": "7b58919d-de03-4d14-ac55-4e0b14e7e36d",
   "metadata": {},
   "outputs": [],
   "source": [
    "print(\"Performers tab completed\")"
   ]
  }
 ],
 "metadata": {
  "kernelspec": {
   "display_name": "Python 3 (ipykernel)",
   "language": "python",
   "name": "python3"
  },
  "language_info": {
   "codemirror_mode": {
    "name": "ipython",
    "version": 3
   },
   "file_extension": ".py",
   "mimetype": "text/x-python",
   "name": "python",
   "nbconvert_exporter": "python",
   "pygments_lexer": "ipython3",
   "version": "3.12.2"
  }
 },
 "nbformat": 4,
 "nbformat_minor": 5
}
