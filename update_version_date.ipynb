{
 "cells": [
  {
   "cell_type": "code",
   "execution_count": 2,
   "id": "f5e8cbe0-0300-4758-8240-f0326bbc366c",
   "metadata": {},
   "outputs": [
    {
     "name": "stdout",
     "output_type": "stream",
     "text": [
      "Updated file name: Excel_Reports\\CUI_CONUS-FREIGHT_ITO-TMO_CARRIER-FUNCTION_As-Is_PROCESS_v3.3_2024-03-27.xlsx\n",
      "Updated file name: Excel_Reports\\CUI_CONUS-FREIGHT_ITO-TMO_CARRIER_FUNCTION_To-Be_REPORTS_v3.6_2024-03-27.xlsx\n",
      "Updated file name: Excel_Reports\\CUI_CONUS-FREIGHT_ITO-TMO_COMMERCIAL-LINE-HAUL_As-Is_PROCESS_v1.3_2024-03-27.xlsx\n",
      "Updated file name: Excel_Reports\\CUI_CONUS-FREIGHT_ITO-TMO_COMMERCIAL-LINE-HAUL_To-Be_REPORTS_v2.1_2024-03-27.xlsx\n",
      "Updated file name: Excel_Reports\\CUI_CONUS-FREIGHT_ITO-TMO_DEPLOYMENT_As-Is_PROCESS_v3.1_2024-03-27.xlsx\n",
      "Updated file name: Excel_Reports\\CUI_CONUS-FREIGHT_ITO-TMO_DEPLOYMENT_To-Be_REPORTS_v3.5_2024-03-27.xlsx\n",
      "Updated file name: Excel_Reports\\CUI_CONUS-FREIGHT_ITO-TMO_HAZMAT_As-Is_PROCESS_v1.1_2024-03-27.xlsx\n",
      "Updated file name: Excel_Reports\\CUI_CONUS-FREIGHT_ITO-TMO_HAZMAT_To-Be_REPORTS_v2.1_2024-03-27.xlsx\n",
      "Updated file name: Excel_Reports\\CUI_CONUS-FREIGHT_ITO-TMO_INBOUND-TERMINATING-FREIGHT_As-Is_PROCESS_v3.1_2024-03-27.xlsx\n",
      "Updated file name: Excel_Reports\\CUI_CONUS-FREIGHT_ITO-TMO_INBOUND_TERMINATING_FREIGHT_To-Be_REPORTS_v3.5_2024-03-27.xlsx\n",
      "Updated file name: Excel_Reports\\CUI_CONUS-FREIGHT_ITO-TMO_ITV_As-Is_PROCESS_v1.1_2024-03-27.xlsx\n",
      "Updated file name: Excel_Reports\\CUI_CONUS-FREIGHT_ITO-TMO_ITV_To-Be_REPORTS_v1.6_2024-03-27.xlsx\n",
      "Updated file name: Excel_Reports\\CUI_CONUS-FREIGHT_ITO-TMO_OUTBOUND-TERMINATING-FREIGHT_As-Is_PROCESS_v3.1_2024-03-27.xlsx\n",
      "Updated file name: Excel_Reports\\CUI_CONUS-FREIGHT_ITO-TMO_OUTBOUND-TERMINATING-FREIGHT_To-Be_REPORTS_v3.5_2024-03-27.xlsx\n",
      "Updated file name: Excel_Reports\\CUI_CONUS-FREIGHT_ITO-TMO_RAIL_As-Is_PROCESS_v3.1_2024-03-27.xlsx\n",
      "Updated file name: Excel_Reports\\CUI_CONUS-FREIGHT_ITO-TMO_RAIL_To-Be_REPORTS_v3.5_2024-03-27.xlsx\n",
      "Updated file name: Excel_Reports\\CUI_CONUS-FREIGHT_ITO-TMO_RATES-MANAGEMENT_As-Is_PROCESS_v3.1_2024-03-27.xlsx\n",
      "Updated file name: Excel_Reports\\CUI_CONUS-FREIGHT_ITO-TMO_RATES-MANAGEMENT_To-Be_REPORTS_v3.5_2024-03-27.xlsx\n",
      "Updated file name: Excel_Reports\\CUI_CONUS-FREIGHT_ITO-TMO_SUPPORT-HQ_As-Is_PROCESS_v3.1_2024-03-27.xlsx\n",
      "Updated file name: Excel_Reports\\CUI_CONUS-FREIGHT_ITO-TMO_SUPPORT-HQ_To-Be_WPS_v3.5_2024-03-27.xlsx\n",
      "Updated file name: Excel_Reports\\CUI_CONUS-FREIGHT_ITO-TMO_TAC_As-Is_PROCESS_v1.1_2024-03-27.xlsx\n",
      "Updated file name: Excel_Reports\\CUI_CONUS-FREIGHT_ITO-TMO_TAC_To-Be_REPORTS_v2.1_2024-03-27.xlsx\n",
      "Updated file name: Excel_Reports\\CUI_CONUS-FREIGHT_ITO-TMO_THIRD-PARTY-PAYMENT-SYSTEM_As-Is_PROCESS_v3.1_2024-03-27.xlsx\n",
      "Updated file name: Excel_Reports\\CUI_CONUS-FREIGHT_ITO-TMO_THIRD-PARTY-PAYMENT-SYSTEM_To-Be_REPORTS_v3.5_2024-03-27.xlsx\n",
      "Updated file name: Excel_Reports\\CUI_CONUS-FREIGHT_ITO-TMO_TPS_As-Is_PROCESS_v1.1_2024-03-27.xlsx\n",
      "Updated file name: Excel_Reports\\CUI_CONUS-FREIGHT_ITO-TMO_TPS_To-Be_REPORTS_v1.6_2024-03-27.xlsx\n"
     ]
    }
   ],
   "source": [
    "import os\n",
    "import re\n",
    "import datetime\n",
    "from openpyxl import load_workbook\n",
    "\n",
    "# Function to find and replace date in file name\n",
    "def update_file_name(old_file_path, today_date):\n",
    "    # Extract file name and extension\n",
    "    file_name, file_extension = os.path.splitext(old_file_path)\n",
    "    \n",
    "    # Extract date from file name\n",
    "    date_match = re.search(r'\\d{4}-\\d{2}-\\d{2}', file_name)\n",
    "    if date_match:\n",
    "        old_date = date_match.group(0)\n",
    "        # Replace old date with today's date\n",
    "        new_file_name = file_name.replace(old_date, today_date.strftime('%Y-%m-%d'))\n",
    "    else:\n",
    "        new_file_name = file_name\n",
    "    \n",
    "    # Extract version number from file name\n",
    "    version_match = re.search(r'_v(\\d+\\.\\d)', new_file_name)\n",
    "    if version_match:\n",
    "        old_version = version_match.group(1)\n",
    "        # Increment version number by 0.1\n",
    "        new_version = '{:.1f}'.format(float(old_version) + 0.1)\n",
    "        new_file_name = new_file_name.replace('_v' + old_version, '_v' + new_version)\n",
    "    \n",
    "    new_file_path = new_file_name + file_extension\n",
    "    # Rename the file\n",
    "    os.rename(old_file_path, new_file_path)\n",
    "    return new_file_path\n",
    "\n",
    "# Function to process Excel files in a folder\n",
    "def process_excel_files(folder_path):\n",
    "    today_date = datetime.datetime.today().date()\n",
    "    for file_name in os.listdir(folder_path):\n",
    "        if file_name.endswith('.xlsx'):\n",
    "            file_path = os.path.join(folder_path, file_name)\n",
    "            new_file_path = update_file_name(file_path, today_date)\n",
    "            print(f\"Updated file name: {new_file_path}\")\n",
    "\n",
    "# Example usage:\n",
    "folder_path = 'Excel_Reports'\n",
    "process_excel_files(folder_path)\n"
   ]
  }
 ],
 "metadata": {
  "kernelspec": {
   "display_name": "Python 3 (ipykernel)",
   "language": "python",
   "name": "python3"
  },
  "language_info": {
   "codemirror_mode": {
    "name": "ipython",
    "version": 3
   },
   "file_extension": ".py",
   "mimetype": "text/x-python",
   "name": "python",
   "nbconvert_exporter": "python",
   "pygments_lexer": "ipython3",
   "version": "3.12.2"
  }
 },
 "nbformat": 4,
 "nbformat_minor": 5
}
